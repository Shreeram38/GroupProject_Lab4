{
 "cells": [
  {
   "cell_type": "code",
   "execution_count": 1,
   "metadata": {},
   "outputs": [
    {
     "ename": "ModuleNotFoundError",
     "evalue": "No module named 'Secretmsg'",
     "output_type": "error",
     "traceback": [
      "\u001b[1;31m---------------------------------------------------------------------------\u001b[0m",
      "\u001b[1;31mModuleNotFoundError\u001b[0m                       Traceback (most recent call last)",
      "\u001b[1;32m<ipython-input-1-b93361687496>\u001b[0m in \u001b[0;36m<module>\u001b[1;34m\u001b[0m\n\u001b[0;32m      1\u001b[0m \u001b[1;32mimport\u001b[0m \u001b[0munittest\u001b[0m\u001b[1;33m\u001b[0m\u001b[1;33m\u001b[0m\u001b[0m\n\u001b[1;32m----> 2\u001b[1;33m \u001b[1;32mfrom\u001b[0m \u001b[0mSecretmsg\u001b[0m\u001b[1;33m.\u001b[0m\u001b[0mComplexencryption\u001b[0m\u001b[1;33m.\u001b[0m\u001b[0mTranspositioncipher\u001b[0m \u001b[1;32mimport\u001b[0m \u001b[0mTranspositioncipher\u001b[0m\u001b[1;33m\u001b[0m\u001b[1;33m\u001b[0m\u001b[0m\n\u001b[0m\u001b[0;32m      3\u001b[0m \u001b[1;33m\u001b[0m\u001b[0m\n\u001b[0;32m      4\u001b[0m \u001b[1;32mclass\u001b[0m \u001b[0mTestTranspositioncipher\u001b[0m \u001b[1;33m(\u001b[0m\u001b[0munittest\u001b[0m\u001b[1;33m.\u001b[0m\u001b[0mTestCase\u001b[0m\u001b[1;33m)\u001b[0m\u001b[1;33m:\u001b[0m\u001b[1;33m\u001b[0m\u001b[1;33m\u001b[0m\u001b[0m\n\u001b[0;32m      5\u001b[0m     \u001b[1;32mdef\u001b[0m \u001b[0msetup\u001b[0m\u001b[1;33m(\u001b[0m\u001b[0mself\u001b[0m\u001b[1;33m)\u001b[0m\u001b[1;33m:\u001b[0m\u001b[1;33m\u001b[0m\u001b[1;33m\u001b[0m\u001b[0m\n",
      "\u001b[1;31mModuleNotFoundError\u001b[0m: No module named 'Secretmsg'"
     ]
    }
   ],
   "source": [
    "import unittest\n",
    "from Secretmsg.Complexencryption.Transpositioncipher import Transpositioncipher\n",
    "\n",
    "class TestTranspositioncipher (unittest.TestCase):\n",
    "    def setup(self):\n",
    "        self.g = Transpositioncipher()\n",
    "    def test_tranencrypt (self): \n",
    "        self.assertEqual(g.tranencrypt(3,\"Hello\"),'Hleol')\n",
    "        self.assertEqual(g.tranencrypt(5,\"WHatupWorld??\"),'WpdHW?ao?trul')\n",
    "        self.assertEqual(g.tranencrypt(7,\"WhatIntheWorldAreYouDoing?\"),'WhAoheriaWentoYgIro?nlutdD')\n",
    "    def test_trandecrypt (self): \n",
    "        self.assertEqual(g.trandecrypt(3,\"Hleol\"), 'Hello')\n",
    "        self.assertEqual(g.trandecrypt(5,\"WpdHW?ao?trul\"), 'WHatupWorld??')\n",
    "        self.assertEqual(g.trandecrypt(7,'WhAoheriaWentoYgIro?nlutdD'),'WhatIntheWorldAreYouDoing?')\n",
    "    def tearDown(self):\n",
    "        print('TearDown Complete')\n",
    "unittest.main(argv =[''], verbosity=2, exit=False)"
   ]
  },
  {
   "cell_type": "code",
   "execution_count": null,
   "metadata": {},
   "outputs": [],
   "source": []
  }
 ],
 "metadata": {
  "kernelspec": {
   "display_name": "Python 3",
   "language": "python",
   "name": "python3"
  },
  "language_info": {
   "codemirror_mode": {
    "name": "ipython",
    "version": 3
   },
   "file_extension": ".py",
   "mimetype": "text/x-python",
   "name": "python",
   "nbconvert_exporter": "python",
   "pygments_lexer": "ipython3",
   "version": "3.7.3"
  }
 },
 "nbformat": 4,
 "nbformat_minor": 2
}
